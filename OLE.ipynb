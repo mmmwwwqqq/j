{
 "cells": [
  {
   "cell_type": "markdown",
   "metadata": {},
   "source": [
    "**Исходные данные:**\n",
    "**Вариант 2-I-а**\n",
    "- L = 1.2 м\n",
    "- q = 1200 Н/м\n",
    "- M = 450 Н*м\n",
    "- b = 0.05 м\n",
    "\n",
    "**Материал:**\n",
    "- УП на основе высокомодульных волокон:\n",
    "- - E<sub>1</sub> = 220 ГПа\n",
    "- - E<sub>2</sub> = 7 ГПа\n",
    "- - G<sub>12</sub> = 5 ГПа\n",
    "- - &nu;<sub>1</sub> = 0.23\n",
    "- - &rho;<sub>1</sub> = 1580 кг/м<sup>3</sup>\n",
    "- Схема армирования:\n",
    "- - +30° ✖ 2 / -30° ✖ 2 / 90° ✖ 1\n",
    "\n",
    "**Схема нагружения**\n",
    "\n",
    "![Схема нагружения](1.png)\n",
    "\n",
    "**Параметры сечения**\n",
    "\n",
    "![Параметры сечения](2.png)\n",
    "\n",
    "**Необходимо**\n",
    "- Записать уравнение изогнутой оси балки без учета сдвига w(x); \n",
    "- Построить график изогнутой оси балки; \n",
    "- Определить максимальный прогиб балки; \n",
    "- Определить напряжения в слоях КМ σ<sub>1</sub><sup>i</sup>, σ<sub>2</sub><sup>i</sup> , τ<sub>12</sub><sup>i</sup>;\n",
    "- Определить массу стержня; \n",
    "- Записать уравнение изогнутой оси балки с учетом сдвига w(x); \n",
    "- Определить максимальный прогиб балки с учетом сдвига и сравнить его со значением, определенным без учета сдвига.\n"
   ]
  },
  {
   "cell_type": "code",
   "execution_count": 1,
   "metadata": {},
   "outputs": [],
   "source": [
    "# Импорт необходимых библиотек\n",
    "import sympy as smp\n",
    "from sympy import Eq, dsolve, Derivative, latex\n",
    "import numpy as np\n",
    "import math\n",
    "import matplotlib.pyplot as plt\n",
    "# Вывод значений параметров в Jupyter Notebook в LaTeX стиле\n",
    "from IPython.display import display, Math\n",
    "\n",
    "def print_latex(expr, name, unit):\n",
    "    display(Math(f'{name} = {latex(expr)}~{unit}'))\n",
    "\n",
    "def print_latex_str(latex_str):\n",
    "    display(Math(latex_str))\n",
    "\n",
    "# Определение символов\n",
    "x = smp.symbols('x')\n",
    "nu12, nu21, E1, E2, G12 = smp.symbols('nu12 nu21 E1 E2 G12')\n",
    "L, q, M, E_x, I_x, G_x, F_x = smp.symbols('L q M E I G F')\n",
    "w = smp.symbols('w', cls=smp.Function)\n",
    "theta = smp.symbols('theta', cls=smp.Function)\n",
    "q9 = 1200\n",
    "M9 = 450\n",
    "L9 = 1.2\n"
   ]
  },
  {
   "cell_type": "markdown",
   "metadata": {},
   "source": [
    "1) Определение необходимых параметров материала"
   ]
  },
  {
   "cell_type": "code",
   "execution_count": 2,
   "metadata": {},
   "outputs": [
    {
     "data": {
      "text/latex": [
       "$\\displaystyle E_{12} = 11.96~ГПа$"
      ],
      "text/plain": [
       "<IPython.core.display.Math object>"
      ]
     },
     "metadata": {},
     "output_type": "display_data"
    },
    {
     "data": {
      "text/latex": [
       "$\\displaystyle E_1 = 49.4571582312538~ГПа$"
      ],
      "text/plain": [
       "<IPython.core.display.Math object>"
      ]
     },
     "metadata": {},
     "output_type": "display_data"
    },
    {
     "data": {
      "text/latex": [
       "$\\displaystyle E_2 = 6.92400215237553~ГПа$"
      ],
      "text/plain": [
       "<IPython.core.display.Math object>"
      ]
     },
     "metadata": {},
     "output_type": "display_data"
    }
   ],
   "source": [
    "# Параметры материала\n",
    "E1 = 50\n",
    "E2 = 7\n",
    "G12 = 5\n",
    "nu21 = 0.28\n",
    "ro = 2100\n",
    "h0 = 0.25\n",
    "n = 6\n",
    "alpha = [0, 0, 27, 27, -27, -27]\n",
    "alpha_rad = [math.radians(a) for a in alpha]\n",
    "nu12 = nu21*E2/E1\n",
    "E12 = E1 * nu12 + 2 * G12\n",
    "E_1 = E1/(1 + nu12 * nu21)\n",
    "E_2 = E2/(1 + nu12 * nu21)\n",
    "print_latex(E12, 'E_{12}', 'ГПа')\n",
    "print_latex(E_1, 'E_1', 'ГПа')\n",
    "print_latex(E_2, 'E_2', 'ГПа')"
   ]
  },
  {
   "cell_type": "markdown",
   "metadata": {},
   "source": [
    "2) Определение коэффициентов жёсткости"
   ]
  },
  {
   "cell_type": "code",
   "execution_count": 3,
   "metadata": {},
   "outputs": [
    {
     "data": {
      "text/latex": [
       "$\\displaystyle A_{11} = \\mathtt{\\text{[49.45715823 49.45715823 35.37923481 35.37923481 35.37923481 35.37923481]}}~$"
      ],
      "text/plain": [
       "<IPython.core.display.Math object>"
      ]
     },
     "metadata": {},
     "output_type": "display_data"
    },
    {
     "data": {
      "text/latex": [
       "$\\displaystyle A_{12} = \\mathtt{\\text{[1.9387206  1.9387206  7.25024693 7.25024693 7.25024693 7.25024693]}}~$"
      ],
      "text/plain": [
       "<IPython.core.display.Math object>"
      ]
     },
     "metadata": {},
     "output_type": "display_data"
    },
    {
     "data": {
      "text/latex": [
       "$\\displaystyle A_{22} = \\mathtt{\\text{[ 6.92400215  6.92400215 10.37887293 10.37887293 10.37887293 10.37887293]}}~$"
      ],
      "text/plain": [
       "<IPython.core.display.Math object>"
      ]
     },
     "metadata": {},
     "output_type": "display_data"
    },
    {
     "data": {
      "text/latex": [
       "$\\displaystyle A_{44} = \\mathtt{\\text{[ 5.         5.        10.3184901 10.3184901 10.3184901 10.3184901]}}~$"
      ],
      "text/plain": [
       "<IPython.core.display.Math object>"
      ]
     },
     "metadata": {},
     "output_type": "display_data"
    },
    {
     "data": {
      "text/latex": [
       "$\\displaystyle B_{11} = 40.0718759472254~$"
      ],
      "text/plain": [
       "<IPython.core.display.Math object>"
      ]
     },
     "metadata": {},
     "output_type": "display_data"
    },
    {
     "data": {
      "text/latex": [
       "$\\displaystyle B_{12} = 5.47973815260694~$"
      ],
      "text/plain": [
       "<IPython.core.display.Math object>"
      ]
     },
     "metadata": {},
     "output_type": "display_data"
    },
    {
     "data": {
      "text/latex": [
       "$\\displaystyle B_{22} = 9.22724933652028~$"
      ],
      "text/plain": [
       "<IPython.core.display.Math object>"
      ]
     },
     "metadata": {},
     "output_type": "display_data"
    },
    {
     "data": {
      "text/latex": [
       "$\\displaystyle B_{44} = 8.54566006539869~$"
      ],
      "text/plain": [
       "<IPython.core.display.Math object>"
      ]
     },
     "metadata": {},
     "output_type": "display_data"
    },
    {
     "data": {
      "text/latex": [
       "$\\displaystyle E_x = 36.8176526000475~ГПа$"
      ],
      "text/plain": [
       "<IPython.core.display.Math object>"
      ]
     },
     "metadata": {},
     "output_type": "display_data"
    },
    {
     "data": {
      "text/latex": [
       "$\\displaystyle G_{xy} = 8.54566006539869~ГПа$"
      ],
      "text/plain": [
       "<IPython.core.display.Math object>"
      ]
     },
     "metadata": {},
     "output_type": "display_data"
    }
   ],
   "source": [
    "# Вычисление коэффициентов жесткости\n",
    "A11 = np.zeros(n)\n",
    "A12 = np.zeros(n)\n",
    "A22 = np.zeros(n)\n",
    "A44 = np.zeros(n)\n",
    "\n",
    "for i in range(n):\n",
    "    A11[i] = E_1 * np.cos(alpha_rad[i])**4 + E_2 * np.sin(alpha_rad[i])**4 + 2*E12*(np.cos(alpha_rad[i])**2) * np.sin(alpha_rad[i])**2\n",
    "    A12[i] = E_1 * nu12 + (E_1 + E_2 - 2 * E12) * (np.cos(alpha_rad[i])**2) * np.sin(alpha_rad[i])**2\n",
    "    A22[i] = E_1 * np.sin(alpha_rad[i])**4 + E_2 * np.cos(alpha_rad[i])**4 + 2*E12*(np.cos(alpha_rad[i])**2) * np.sin(alpha_rad[i])**2\n",
    "    A44[i] = (E_1 + E_2 - (2 * E_1 * nu12)) * ((np.cos(alpha_rad[i])**2) * np.sin(alpha_rad[i])**2) + G12*((np.cos(alpha_rad[i])**2) - np.sin(alpha_rad[i])**2)**2\n",
    "\n",
    "B11 = sum(A11) * (h0/ n/h0)\n",
    "B12 = sum(A12) * (h0/ n/h0)\n",
    "B22 = sum(A22) * (h0/ n/h0)\n",
    "B44 = sum(A44) * (h0/ n/h0)\n",
    "\n",
    "E_x1 = B11 - (B12**2)/B22\n",
    "G_xy = B44\n",
    "\n",
    "print_latex(A11, 'A_{11}', '')\n",
    "print_latex(A12, 'A_{12}', '')\n",
    "print_latex(A22, 'A_{22}', '')\n",
    "print_latex(A44, 'A_{44}', '')\n",
    "\n",
    "print_latex(B11, 'B_{11}', '')\n",
    "print_latex(B12, 'B_{12}', '')\n",
    "print_latex(B22, 'B_{22}', '')\n",
    "print_latex(B44, 'B_{44}', '')\n",
    "\n",
    "print_latex(E_x1, 'E_x', 'ГПа')\n",
    "print_latex(G_xy, 'G_{xy}', 'ГПа')\n"
   ]
  },
  {
   "cell_type": "markdown",
   "metadata": {},
   "source": [
    "3) Уравнение изогнутой оси балки без учёта сдвига (гипотеза Бернулли)"
   ]
  },
  {
   "cell_type": "code",
   "execution_count": 4,
   "metadata": {},
   "outputs": [
    {
     "data": {
      "text/latex": [
       "$\\displaystyle w{\\left(x \\right)} = C_{1} + C_{2} x + C_{3} x^{2} + C_{4} x^{3} - \\frac{q x^{4}}{24 E I}$"
      ],
      "text/plain": [
       "Eq(w(x), C1 + C2*x + C3*x**2 + C4*x**3 - q*x**4/(24*E*I))"
      ]
     },
     "execution_count": 4,
     "metadata": {},
     "output_type": "execute_result"
    }
   ],
   "source": [
    "# Определение дифференциального уравнения\n",
    "diff_eq = Eq(Derivative(w(x), x, x, x, x), -q/E_x/I_x)\n",
    "solution = dsolve(diff_eq, w(x))\n",
    "solution1 = Derivative(solution, x)\n",
    "\n",
    "# Вывод решения дифференциального уравнения\n",
    "solution\n"
   ]
  },
  {
   "cell_type": "markdown",
   "metadata": {},
   "source": [
    "4) Граничные условия для заданной расчетной схемы\n",
    "   - $w(0) = 0$\n",
    "   - $w'(0) = 0$\n",
    "   - $w'''(L) = 0$\n",
    "   - $w''(L) = \\frac{M}{EI}$"
   ]
  },
  {
   "cell_type": "code",
   "execution_count": 5,
   "metadata": {},
   "outputs": [
    {
     "data": {
      "text/latex": [
       "$\\displaystyle w{\\left(x \\right)} = \\frac{L q x^{3}}{6 E I} - \\frac{q x^{4}}{24 E I} + \\frac{x^{2} \\left(- L^{2} q + 2 M\\right)}{4 E I}$"
      ],
      "text/plain": [
       "Eq(w(x), L*q*x**3/(6*E*I) - q*x**4/(24*E*I) + x**2*(-L**2*q + 2*M)/(4*E*I))"
      ]
     },
     "execution_count": 5,
     "metadata": {},
     "output_type": "execute_result"
    }
   ],
   "source": [
    "# Определение граничных условий и решение дифференциального уравнения\n",
    "boundary_conditions = [\n",
    "    Eq(w(0), 0),\n",
    "    Eq(w(x).diff(x).subs(x, 0), 0),\n",
    "    Eq(w(x).diff(x, x).subs(x, L), M/E_x/I_x),\n",
    "    Eq(w(x).diff(x, x, x).subs(x, L), 0)\n",
    "]\n",
    "\n",
    "diff_eq = Eq(w(x).diff(x, x, x, x), -q/E_x/I_x)\n",
    "solution = dsolve(diff_eq, w(x), ics={bc.lhs: bc.rhs for bc in boundary_conditions})\n",
    "\n",
    "# Вывод решения дифференциального уравнения с граничными условиями\n",
    "solution"
   ]
  },
  {
   "cell_type": "markdown",
   "metadata": {},
   "source": [
    "5) Определение парметров сечения"
   ]
  },
  {
   "cell_type": "code",
   "execution_count": 6,
   "metadata": {},
   "outputs": [
    {
     "data": {
      "text/latex": [
       "$\\displaystyle E_x*I = 4602.20657500594~м^3 * кг/с^2$"
      ],
      "text/plain": [
       "<IPython.core.display.Math object>"
      ]
     },
     "metadata": {},
     "output_type": "display_data"
    },
    {
     "data": {
      "text/latex": [
       "$\\displaystyle G_{xy}*F = 1068207.50817484~Па$"
      ],
      "text/plain": [
       "<IPython.core.display.Math object>"
      ]
     },
     "metadata": {},
     "output_type": "display_data"
    },
    {
     "data": {
      "text/latex": [
       "$\\displaystyle w{\\left(x \\right)} = - 0.0108643536931924 x^{4} + 0.0521488977273234 x^{3} - 0.0449784242898164 x^{2}$"
      ],
      "text/plain": [
       "Eq(w(x), -0.0108643536931924*x**4 + 0.0521488977273234*x**3 - 0.0449784242898164*x**2)"
      ]
     },
     "execution_count": 6,
     "metadata": {},
     "output_type": "execute_result"
    }
   ],
   "source": [
    "# Параметры сечения\n",
    "b = 50\n",
    "delta = n * h0\n",
    "I9 = (2/3)*(b**3)*delta/1000\n",
    "E9 = E_x1\n",
    "F9 = (5/3)*b*delta*1000\n",
    "G9 = G_xy\n",
    "values_to_sub = {q: q9, M: M9, L: L9, E_x: E9, I_x: I9}\n",
    "solutions_subs = solution.subs(values_to_sub)\n",
    "\n",
    "print_latex(E_x1*I9, 'E_x*I', 'м^3 * кг/с^2')\n",
    "print_latex(G9*F9, 'G_{xy}*F', 'Па')\n",
    "solutions_subs"
   ]
  },
  {
   "cell_type": "markdown",
   "metadata": {},
   "source": [
    "6) Построение линии изгиба стержня по функции w(x) для метода Бернулли"
   ]
  },
  {
   "cell_type": "code",
   "execution_count": 7,
   "metadata": {},
   "outputs": [
    {
     "data": {
      "image/png": "[encoded data removed]",
      "text/plain": [
       "<Figure size 640x480 with 1 Axes>"
      ]
     },
     "metadata": {},
     "output_type": "display_data"
    }
   ],
   "source": [
    "# Вычисление численного значения функции\n",
    "numeric_value = solutions_subs.rhs.evalf()\n",
    "\n",
    "# Построение графика функции\n",
    "x_vals = np.linspace(0, 1.2, 400)\n",
    "y_vals = [numeric_value.subs(x, val).evalf() for val in x_vals]\n",
    "\n",
    "plt.plot(x_vals, y_vals)\n",
    "plt.xlabel('x')\n",
    "plt.ylabel('w(x)')\n",
    "plt.title('Линия изгиба стержня')\n",
    "plt.grid(True)\n",
    "plt.show()"
   ]
  },
  {
   "cell_type": "markdown",
   "metadata": {},
   "source": [
    "7) Определение максимального перемещения"
   ]
  },
  {
   "cell_type": "code",
   "execution_count": 8,
   "metadata": {},
   "outputs": [
    {
     "data": {
      "text/latex": [
       "$\\displaystyle \n",
       "Максимальное значение функции достигается в точке x = 0.718334617360805, где $w_{\\rm func} = -0.00677210788719240$\n",
       "$"
      ],
      "text/plain": [
       "<IPython.core.display.Math object>"
      ]
     },
     "metadata": {},
     "output_type": "display_data"
    }
   ],
   "source": [
    "# Поиск максимального значения функции\n",
    "w_func = solutions_subs.rhs \n",
    "first_derivative = smp.diff(w_func, x)\n",
    "diff_eq_fd = Eq(first_derivative, 0)\n",
    "solution_fd = smp.solve(Eq(first_derivative, 0), x)\n",
    "\n",
    "# Фильтрация решений\n",
    "filtered_solutions = [solution for solution in solution_fd if 0 <= solution <= 1.2]\n",
    "numeric_w_func = smp.lambdify(x, w_func, \"numpy\")\n",
    "max_solution = min(filtered_solutions, key=numeric_w_func)\n",
    "max_value = numeric_w_func(max_solution)\n",
    "\n",
    "latex_output = rf\"\"\"\n",
    "Максимальное значение функции достигается в точке x = {max_solution}, где $w_{{\\rm func}} = {max_value}$\n",
    "\"\"\"\n",
    "\n",
    "# Выводим Latex-выражение\n",
    "print_latex_str(latex_output)"
   ]
  },
  {
   "cell_type": "markdown",
   "metadata": {},
   "source": [
    "8) Определение деформаций и напряженияй в слоях"
   ]
  },
  {
   "cell_type": "code",
   "execution_count": 9,
   "metadata": {},
   "outputs": [
    {
     "data": {
      "image/png": "[encoded data removed]",
      "text/plain": [
       "<Figure size 640x480 with 1 Axes>"
      ]
     },
     "metadata": {},
     "output_type": "display_data"
    },
    {
     "name": "stdout",
     "output_type": "stream",
     "text": [
      "Максимальное значение второй пароизводной: 0.0977791832387314\n"
     ]
    },
    {
     "data": {
      "text/latex": [
       "$\\displaystyle Вторая \\ производная:$"
      ],
      "text/plain": [
       "<IPython.core.display.Math object>"
      ]
     },
     "metadata": {},
     "output_type": "display_data"
    },
    {
     "data": {
      "text/latex": [
       "$\\displaystyle - 0.130372244318309 x^{2} + 0.31289338636394 x - 0.0899568485796329$"
      ],
      "text/plain": [
       "-0.130372244318309*x**2 + 0.31289338636394*x - 0.0899568485796329"
      ]
     },
     "execution_count": 9,
     "metadata": {},
     "output_type": "execute_result"
    }
   ],
   "source": [
    "#Напряжения в слоях\n",
    "z_max = b/2000\n",
    "w_func2 = solutions_subs.rhs\n",
    "\n",
    "\n",
    "second_derivative = smp.diff(w_func2, x, 2)\n",
    "\n",
    "numeric_functionsf = smp.lambdify(x, second_derivative, \"numpy\")\n",
    "\n",
    "x_vals = np.linspace(0, 1.2, 400)\n",
    "\n",
    "\n",
    "y_vals_sd = numeric_functionsf(x_vals)\n",
    "plt.plot(x_vals, y_vals_sd)\n",
    "plt.xlabel('x')\n",
    "plt.ylabel('w(x)')\n",
    "plt.title(\"Вторя производная - w''(x)\")\n",
    "plt.grid(True)\n",
    "plt.show()\n",
    "\n",
    "critical_points = smp.solve(second_derivative, x)\n",
    "\n",
    "\n",
    "derivative_values = [second_derivative.subs(x, point) for point in critical_points]\n",
    "derivative_values.extend([second_derivative.subs(x, 0), second_derivative.subs(x, 1.2)])\n",
    "\n",
    "\n",
    "max_derivative = max(abs(value) for value in derivative_values if value is not None)\n",
    "\n",
    "print(f\"Максимальное значение второй пароизводной: {max_derivative}\")\n",
    "print_latex_str(\"Вторая \\\\ производная:\")\n",
    "second_derivative"
   ]
  },
  {
   "cell_type": "code",
   "execution_count": 10,
   "metadata": {},
   "outputs": [
    {
     "data": {
      "text/latex": [
       "$\\displaystyle ε_x = -0.00244447958096829~$"
      ],
      "text/plain": [
       "<IPython.core.display.Math object>"
      ]
     },
     "metadata": {},
     "output_type": "display_data"
    },
    {
     "data": {
      "text/latex": [
       "$\\displaystyle ε_y = 0.00145169026375871~$"
      ],
      "text/plain": [
       "<IPython.core.display.Math object>"
      ]
     },
     "metadata": {},
     "output_type": "display_data"
    }
   ],
   "source": [
    "#Глобальные деформации в направлении х и у\n",
    "eps_x = -z_max * max_derivative\n",
    "print_latex(eps_x, 'ε_x', '')\n",
    "eps_y = -B12*eps_x/B22\n",
    "print_latex(eps_y, 'ε_y', '')"
   ]
  },
  {
   "cell_type": "code",
   "execution_count": 11,
   "metadata": {},
   "outputs": [
    {
     "data": {
      "text/latex": [
       "$\\displaystyle ε_1 = \\mathtt{\\text{[-0.00244448 -0.00244448 -0.00164145 -0.00164145 -0.00164145 -0.00164145]}}~$"
      ],
      "text/plain": [
       "<IPython.core.display.Math object>"
      ]
     },
     "metadata": {},
     "output_type": "display_data"
    },
    {
     "data": {
      "text/latex": [
       "$\\displaystyle ε_2 = \\mathtt{\\text{[0.00145169 0.00145169 0.00064866 0.00064866 0.00064866 0.00064866]}}~$"
      ],
      "text/plain": [
       "<IPython.core.display.Math object>"
      ]
     },
     "metadata": {},
     "output_type": "display_data"
    },
    {
     "data": {
      "text/latex": [
       "$\\displaystyle γ_{12} = \\mathtt{\\text{[ 0.          0.          0.00315207  0.00315207 -0.00315207 -0.00315207]}}~$"
      ],
      "text/plain": [
       "<IPython.core.display.Math object>"
      ]
     },
     "metadata": {},
     "output_type": "display_data"
    },
    {
     "data": {
      "text/latex": [
       "$\\displaystyle σ_1 = \\mathtt{\\text{[-118.08259161 -118.08259161  -79.92389225  -79.92389225  -79.92389225\n",
       "  -79.92389225]}}~МПа$"
      ],
      "text/plain": [
       "<IPython.core.display.Math object>"
      ]
     },
     "metadata": {},
     "output_type": "display_data"
    },
    {
     "data": {
      "text/latex": [
       "$\\displaystyle σ_2 = \\mathtt{\\text{[5.31234358 5.31234358 1.30901626 1.30901626 1.30901626 1.30901626]}}~МПа$"
      ],
      "text/plain": [
       "<IPython.core.display.Math object>"
      ]
     },
     "metadata": {},
     "output_type": "display_data"
    },
    {
     "data": {
      "text/latex": [
       "$\\displaystyle τ_{12} = \\mathtt{\\text{[ 0.          0.          0.15760338  0.15760338 -0.15760338 -0.15760338]}}~МПа$"
      ],
      "text/plain": [
       "<IPython.core.display.Math object>"
      ]
     },
     "metadata": {},
     "output_type": "display_data"
    }
   ],
   "source": [
    "#Определение деформаций и напряжений в слоях\n",
    "eps1 = np.zeros(n)\n",
    "eps2 = np.zeros(n)\n",
    "gam12 = np.zeros(n)\n",
    "sigma1 = np.zeros(n)\n",
    "sigma2 = np.zeros(n)\n",
    "tau12 = np.zeros(n)\n",
    "for i in range(n):\n",
    "    eps1[i] = eps_x * np.cos(alpha_rad[i])**2 + eps_y * np.sin(alpha_rad[i])**2\n",
    "    eps2[i] = eps_x * np.sin(alpha_rad[i])**2 + eps_y * np.cos(alpha_rad[i])**2\n",
    "    gam12[i]= (eps_y - eps_x) * np.sin(2*alpha_rad[i])\n",
    "    sigma1[i] = E_1 * (eps1[i]+ nu12 * eps2[i])*1000\n",
    "    sigma2[i] = E_2 * (eps2[i]+ nu21 * eps1[i])*1000\n",
    "    tau12[i] = G12 * gam12[i]*10\n",
    "\n",
    "print_latex(eps1, 'ε_1', '')\n",
    "print_latex(eps2, 'ε_2', '')\n",
    "print_latex(gam12, 'γ_{12}', '')\n",
    "print_latex(sigma1, 'σ_1', 'МПа')\n",
    "print_latex(sigma2, 'σ_2', 'МПа')\n",
    "print_latex(tau12, 'τ_{12}', 'МПа')\n"
   ]
  },
  {
   "cell_type": "markdown",
   "metadata": {},
   "source": [
    "9) Определение площади сечения и массы стержня"
   ]
  },
  {
   "cell_type": "code",
   "execution_count": 12,
   "metadata": {},
   "outputs": [
    {
     "data": {
      "text/latex": [
       "$\\displaystyle S = 291.0~мм^2$"
      ],
      "text/plain": [
       "<IPython.core.display.Math object>"
      ]
     },
     "metadata": {},
     "output_type": "display_data"
    },
    {
     "data": {
      "text/latex": [
       "$\\displaystyle M = 0.73332~кг$"
      ],
      "text/plain": [
       "<IPython.core.display.Math object>"
      ]
     },
     "metadata": {},
     "output_type": "display_data"
    }
   ],
   "source": [
    "#Площадь сечения\n",
    "S = b**2 - (b-2*n*h0)**2\n",
    "print_latex(S, 'S', 'мм^2')\n",
    "#масса \n",
    "L9 = 1.2\n",
    "m = ro * L9 * S/1000000\n",
    "print_latex(m, 'M', 'кг')"
   ]
  },
  {
   "cell_type": "markdown",
   "metadata": {},
   "source": [
    "10) Уравнение изогнутой оси балки с учётом сдвига (гипотеза Тимошенко)"
   ]
  },
  {
   "cell_type": "code",
   "execution_count": 13,
   "metadata": {},
   "outputs": [
    {
     "data": {
      "text/latex": [
       "$\\displaystyle w{\\left(x \\right)} = x^{2} \\left(\\frac{q}{2 F G} - \\frac{L^{2} q}{4 E I} + \\frac{M}{2 E I}\\right) - \\frac{L q x}{F G} + \\frac{L q x^{3}}{6 E I} - \\frac{q x^{4}}{24 E I}$"
      ],
      "text/plain": [
       "Eq(w(x), x**2*(q/(2*F*G) - L**2*q/(4*E*I) + M/(2*E*I)) - L*q*x/(F*G) + L*q*x**3/(6*E*I) - q*x**4/(24*E*I))"
      ]
     },
     "execution_count": 13,
     "metadata": {},
     "output_type": "execute_result"
    }
   ],
   "source": [
    "#Метод Тимошенко (с учетом сдвига)\n",
    "# Определяем граничные условия и дифференциальное уравнение\n",
    "boundary_conditions_T_THETA = [\n",
    "    Eq(w(0), 0),\n",
    "    Eq(theta(0), 0),\n",
    "    Eq(theta(x).diff(x).subs(x, L), M/E_x/I_x),\n",
    "    Eq(theta(x).diff(x, x).subs(x, L), 0)\n",
    "]\n",
    "\n",
    "\n",
    "diff_eq_th = Eq(theta(x).diff(x, x, x), -q/E_x/I_x)\n",
    "diff_eq_w2 = Eq(w(x).diff(x), theta(x) - (theta(x).diff(x, x) * E_x * I_x) / G_x / F_x)\n",
    "\n",
    "\n",
    "solution_th = dsolve([diff_eq_th, diff_eq_w2], [theta(x), w(x)], ics={bc.lhs: bc.rhs for bc in boundary_conditions_T_THETA})\n",
    "solution_th = solution_th[1]\n",
    "\n",
    "solution_th"
   ]
  },
  {
   "cell_type": "code",
   "execution_count": 14,
   "metadata": {},
   "outputs": [
    {
     "data": {
      "text/latex": [
       "$\\displaystyle w{\\left(x \\right)} = - 0.0108643536931924 x^{4} + 0.0521488977273234 x^{3} - 0.044416735670884 x^{2} - 0.00134805268543789 x$"
      ],
      "text/plain": [
       "Eq(w(x), -0.0108643536931924*x**4 + 0.0521488977273234*x**3 - 0.044416735670884*x**2 - 0.00134805268543789*x)"
      ]
     },
     "execution_count": 14,
     "metadata": {},
     "output_type": "execute_result"
    }
   ],
   "source": [
    "values_to_sub_t = {q: q9, M: M9, L: L9, E_x: E9, I_x: I9, G_x: G9, F_x: F9}\n",
    "solutions_subs_t = solution_th.subs(values_to_sub_t)\n",
    "solutions_subs_t"
   ]
  },
  {
   "cell_type": "markdown",
   "metadata": {},
   "source": [
    "11) Определение максимального перемещения "
   ]
  },
  {
   "cell_type": "code",
   "execution_count": 15,
   "metadata": {},
   "outputs": [
    {
     "name": "stdout",
     "output_type": "stream",
     "text": [
      "Максимальное значение функции достигается в точке x = 0.718334617360805, где w_func = -0.00745062687339449\n"
     ]
    }
   ],
   "source": [
    "w_funct = solutions_subs_t.rhs \n",
    "first_derivativet = smp.diff(w_func, x)\n",
    "diff_eq_fdt = Eq(first_derivative, 0)\n",
    "solution_fd = smp.solve(Eq(first_derivative, 0), x)\n",
    "\n",
    "\n",
    "filtered_solutions = [solution for solution in solution_fd if 0 <= solution <= 1.2]\n",
    "\n",
    "\n",
    "numeric_w_func = smp.lambdify(x, w_funct, \"numpy\")\n",
    "\n",
    "\n",
    "max_solution = min(filtered_solutions, key=numeric_w_func)\n",
    "max_valuet = numeric_w_func(max_solution)\n",
    "\n",
    "print(f\"Максимальное значение функции достигается в точке x = {max_solution}, где w_func = {max_valuet}\")\n",
    "# Вычисление численного значения функции\n",
    "numeric_valuet = solutions_subs_t.rhs.evalf()\n",
    "\n",
    "y_vals_t = [numeric_valuet .subs(x, val).evalf() for val in x_vals]\n",
    "\n"
   ]
  },
  {
   "cell_type": "markdown",
   "metadata": {},
   "source": [
    "12) Сравнение полученных значений"
   ]
  },
  {
   "cell_type": "code",
   "execution_count": 16,
   "metadata": {},
   "outputs": [
    {
     "data": {
      "text/latex": [
       "$\\displaystyle δ = 0.0910687110939647~$"
      ],
      "text/plain": [
       "<IPython.core.display.Math object>"
      ]
     },
     "metadata": {},
     "output_type": "display_data"
    }
   ],
   "source": [
    "#Сравнение полученных результатов\n",
    "delt = (max_valuet - max_value)/max_valuet\n",
    "print_latex(delt, 'δ', '')"
   ]
  },
  {
   "cell_type": "markdown",
   "metadata": {},
   "source": [
    "То есть погрешность составила 5.41%"
   ]
  },
  {
   "cell_type": "markdown",
   "metadata": {},
   "source": [
    "13) Построениие линии изогнутой оси для обоих методов"
   ]
  },
  {
   "cell_type": "code",
   "execution_count": 17,
   "metadata": {},
   "outputs": [
    {
     "data": {
      "image/png": "[encoded data removed]",
      "text/plain": [
       "<Figure size 640x480 with 1 Axes>"
      ]
     },
     "metadata": {},
     "output_type": "display_data"
    }
   ],
   "source": [
    "\n",
    "x = np.linspace(0, 1.2, 400)\n",
    "\n",
    "plt.plot(x, y_vals_t, label='Метод Тимошенко')\n",
    "plt.plot(x, y_vals, label='Метод Бернулли')\n",
    "\n",
    "plt.legend()\n",
    "plt.xlabel('x')\n",
    "plt.ylabel('y')\n",
    "plt.grid(True)\n",
    "plt.show()"
   ]
  }
 ],
 "metadata": {
  "kernelspec": {
   "display_name": "Python 3 (ipykernel)",
   "language": "python",
   "name": "python3"
  },
  "language_info": {
   "codemirror_mode": {
    "name": "ipython",
    "version": 3
   },
   "file_extension": ".py",
   "mimetype": "text/x-python",
   "name": "python",
   "nbconvert_exporter": "python",
   "pygments_lexer": "ipython3",
   "version": "3.11.3"
  }
 },
 "nbformat": 4,
 "nbformat_minor": 4
}
